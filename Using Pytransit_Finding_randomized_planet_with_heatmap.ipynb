{
 "cells": [
  {
   "cell_type": "code",
   "execution_count": 165,
   "metadata": {
    "id": "RGQK29mFGns6"
   },
   "outputs": [
    {
     "name": "stdout",
     "output_type": "stream",
     "text": [
      "0.2125661729931293\n"
     ]
    }
   ],
   "source": [
    "import pandas as pd\n",
    "import seaborn as sns\n",
    "import numpy as np\n",
    "import matplotlib.pyplot as plt\n",
    "from decimal import Decimal\n",
    "from numpy import random\n",
    "from pytransit import QuadraticModel\n",
    "from tabulate import tabulate\n",
    "\n",
    "\n",
    "##y is flux, x is time\n",
    "x_value = np.array([])\n",
    "y_value = np.array([])\n",
    "noise_array = np.array([])\n",
    "depth_match = np.array([])\n",
    "period_match = np.array([])\n",
    "\n",
    "\n",
    "rand_period = random.rand()\n",
    "rand_depth = random.rand()\n",
    "print(rand_period)"
   ]
  },
  {
   "cell_type": "code",
   "execution_count": 166,
   "metadata": {
    "id": "8ohTIB1hGNrv"
   },
   "outputs": [],
   "source": [
    "#timesteps = int(input(\"Number of timesteps: \"))\n",
    "timesteps =  19440 # minutes in 27 days divided by 2\n",
    "depth = 1 - (rand_depth * .02)\n",
    "time = list(range(1,timesteps+1)) \n",
    "transit_length = list(range(1,121))\n",
    "transit_frequency = 5760 + (rand_period * 1400)\n",
    "\n",
    "for timestep in time:\n",
    "    n=0\n",
    "    minute_value = timestep * 2\n",
    "    x_value = np.append(x_value, minute_value)\n",
    "    noise = random.normal(0,.002)\n",
    "    if minute_value % transit_frequency < 2:\n",
    "        while n <= (len(transit_length) / 2) and len(y_value) < timesteps:\n",
    "            transit_with_noise = depth #+ noise\n",
    "            y_value = np.append(y_value, transit_with_noise)\n",
    "            n = n+1\n",
    "    elif len(y_value) < timesteps:\n",
    "        gaussian_noise = 1 #+ noise\n",
    "        y_value = np.append(y_value, gaussian_noise)\n"
   ]
  },
  {
   "cell_type": "code",
   "execution_count": 167,
   "metadata": {},
   "outputs": [
    {
     "data": {
      "image/png": "[encoded data removed]",
      "text/plain": [
       "<Figure size 432x288 with 1 Axes>"
      ]
     },
     "metadata": {
      "needs_background": "light"
     },
     "output_type": "display_data"
    }
   ],
   "source": [
    "time_pytransit = np.linspace(0,27,19441)\n",
    "\n",
    "def model(period,rp_over_rstar,a_over_rstar,inc,ecc,omega):\n",
    "    \"\"\"\n",
    "    Function for computing transit models for the set of 8 free paramters\n",
    "    x - time array\n",
    "    \"\"\"\n",
    "    tm = QuadraticModel()\n",
    "    tm.set_data(time_pytransit)\n",
    "    i=inc/180.0*np.pi\n",
    "    w=omega/180.0*np.pi\n",
    "    lightcurve=tm.evaluate(k=rp_over_rstar, ldc=[0.0,0.0], t0=0.0, p=period, a=a_over_rstar, i=i,e=ecc,w=w)\n",
    "    return lightcurve\n",
    "\n",
    "lc=model(4. + rand_period,.1 +.02 *rand_depth,12.306,90.,0.,0.) #must find relationship between depth and rp_over_rstar\n",
    "time_mins = time_pytransit * 1440\n",
    "plt.plot(time_mins, lc)\n",
    "plt.show()"
   ]
  },
  {
   "cell_type": "code",
   "execution_count": 168,
   "metadata": {
    "colab": {
     "base_uri": "https://localhost:8080/",
     "height": 295
    },
    "id": "IWLPCJxRHT2f",
    "outputId": "3d63f1d8-3a20-4d08-cbbb-b1b64297b8cf"
   },
   "outputs": [
    {
     "data": {
      "image/png": "[encoded data removed]",
      "text/plain": [
       "<Figure size 432x288 with 1 Axes>"
      ]
     },
     "metadata": {
      "needs_background": "light"
     },
     "output_type": "display_data"
    }
   ],
   "source": [
    "fig = plt.figure()\n",
    "plt.plot(x_value, y_value)\n",
    "plt.plot(time_mins, lc)\n",
    "plt.xlabel(\"Time (minutes)\")\n",
    "plt.ylabel(\"Flux (percentage)\")\n",
    "plt.title(\"Transit Lightcurve\")\n",
    "plt.show()"
   ]
  },
  {
   "cell_type": "code",
   "execution_count": 54,
   "metadata": {
    "id": "SMpgvv50lgEK"
   },
   "outputs": [],
   "source": [
    "unknown_transit = np.column_stack((x_value, y_value))\n",
    "periods = np.array([])\n",
    "depths = np.array([])\n",
    "chis = np.array([])\n",
    "\n",
    "period_range = np.linspace(5760,7200,11)\n",
    "depth_range = np.linspace(.98,1,11)\n",
    "\n",
    "for period in period_range:\n",
    "    for depth in depth_range:\n",
    "        comparison_x_value = np.array([]) # the arrays must be cleared every time\n",
    "        comparison_y_value = np.array([])\n",
    "        periods = np.append(periods, period) # retrieve period\n",
    "        depths = np.append(depths, depth)    # retrieve depth\n",
    "        for timestep in time: # make graph to compare to, same code as before\n",
    "            n=0\n",
    "            minute_value = timestep * 2\n",
    "            comparison_x_value = np.append(comparison_x_value, minute_value)\n",
    "            if minute_value % period < 2:\n",
    "                while n <= (len(transit_length) / 2) and len(comparison_y_value) < timesteps:\n",
    "                    transit_with_noise = depth\n",
    "                    comparison_y_value = np.append(comparison_y_value, transit_with_noise)\n",
    "                    n = n+1\n",
    "            elif len(comparison_y_value) < timesteps:\n",
    "                base_flux = 1\n",
    "                comparison_y_value = np.append(comparison_y_value, base_flux)\n",
    "        #comparison_transit = np.column_stack((comparison_x_value, comparison_y_value)) #not needed for this\n",
    "        flux_comparison = np.column_stack((y_value, comparison_y_value))\n",
    "        error_calc_indi = 0 # must be reset every time too\n",
    "        error_calc_total = 0\n",
    "        for pair in flux_comparison: # compare idealized data with actual\n",
    "            error_calc_indi = ((pair[0] - pair[1]) ** 2) / (.002 ** 2)\n",
    "            error_calc_total = error_calc_total + error_calc_indi\n",
    "        chi_indi = error_calc_total / 19400\n",
    "        chis = np.append(chis, chi_indi) # retrieve chi"
   ]
  },
  {
   "cell_type": "code",
   "execution_count": 60,
   "metadata": {
    "colab": {
     "base_uri": "https://localhost:8080/",
     "height": 337
    },
    "id": "PAQztiMp20y_",
    "outputId": "c67d9a0a-9a23-4e3a-f997-41c0108c047e"
   },
   "outputs": [
    {
     "data": {
      "image/png": "[encoded data removed]",
      "text/plain": [
       "<Figure size 432x288 with 2 Axes>"
      ]
     },
     "metadata": {
      "needs_background": "light"
     },
     "output_type": "display_data"
    },
    {
     "name": "stdout",
     "output_type": "stream",
     "text": [
      "    Depths (percentage)  Periods (minutes)  Reduced Chi (Best match is 1)\n",
      "71                 0.99             6624.0                       1.196268\n"
     ]
    }
   ],
   "source": [
    "data = pd.DataFrame({'Depths (percentage)': depths, 'Periods (minutes)': periods, 'Reduced Chi (Best match is 1)': chis})\n",
    "data_pivoted = data.pivot(\"Depths (percentage)\", \"Periods (minutes)\", \"Reduced Chi (Best match is 1)\")\n",
    "data_pivoted = sns.heatmap(data_pivoted, cmap=\"viridis\")\n",
    "plt.title(\"Transit Lightcurve Match\")\n",
    "data_pivoted.collections[0].colorbar.set_label(\"Reduced Chi (Best match is 1)\")\n",
    "plt.show()\n",
    "\n",
    "#print(tabulate(data, headers='keys', tablefmt='psql'))\n",
    "min_chi = data['Reduced Chi (Best match is 1)'].idxmin()\n",
    "print(data.loc[[min_chi]])\n"
   ]
  },
  {
   "cell_type": "code",
   "execution_count": 56,
   "metadata": {
    "id": "QxCHjFFqJnqa"
   },
   "outputs": [],
   "source": [
    "#vectorized way\n",
    "        #error_calc = ((flux_comparison[:,0] - flux_comparison[:,1]) ** 2) / (.002 ** 2)\n",
    "        #print(len(error_calc))"
   ]
  },
  {
   "cell_type": "code",
   "execution_count": null,
   "metadata": {},
   "outputs": [],
   "source": []
  },
  {
   "cell_type": "code",
   "execution_count": null,
   "metadata": {},
   "outputs": [],
   "source": []
  }
 ],
 "metadata": {
  "colab": {
   "collapsed_sections": [],
   "name": "Finding randomized planet with heatmap",
   "provenance": []
  },
  "kernelspec": {
   "display_name": "Python 3",
   "language": "python",
   "name": "python3"
  },
  "language_info": {
   "codemirror_mode": {
    "name": "ipython",
    "version": 3
   },
   "file_extension": ".py",
   "mimetype": "text/x-python",
   "name": "python",
   "nbconvert_exporter": "python",
   "pygments_lexer": "ipython3",
   "version": "3.8.8"
  }
 },
 "nbformat": 4,
 "nbformat_minor": 1
}
