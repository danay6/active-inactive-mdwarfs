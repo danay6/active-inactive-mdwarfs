{
 "cells": [
  {
   "cell_type": "code",
   "execution_count": 6,
   "id": "9bab8d2b",
   "metadata": {},
   "outputs": [],
   "source": [
    "import numpy as np\n",
    "import matplotlib.pyplot as plt\n",
    "from decimal import Decimal\n",
    "from numpy import random\n",
    "from pytransit import QuadraticModel"
   ]
  },
  {
   "cell_type": "code",
   "execution_count": 4,
   "id": "cdb52743",
   "metadata": {},
   "outputs": [],
   "source": [
    "time = np.linspace(0,27,19441)"
   ]
  },
  {
   "cell_type": "code",
   "execution_count": 5,
   "id": "f91fd177",
   "metadata": {},
   "outputs": [
    {
     "data": {
      "image/png": "[encoded data removed]",
      "text/plain": [
       "<Figure size 432x288 with 1 Axes>"
      ]
     },
     "metadata": {
      "needs_background": "light"
     },
     "output_type": "display_data"
    }
   ],
   "source": [
    "def model(period,rp_over_rstar,a_over_rstar,inc,ecc,omega):\n",
    "    \"\"\"\n",
    "    Function for computing transit models for the set of 8 free paramters\n",
    "    x - time array\n",
    "    \"\"\"\n",
    "    tm = QuadraticModel()\n",
    "    tm.set_data(time)\n",
    "    i=inc/180.0*np.pi\n",
    "    w=omega/180.0*np.pi\n",
    "    lightcurve=tm.evaluate(k=rp_over_rstar, ldc=[0.0,0.0], t0=0.0, p=period, a=a_over_rstar, i=i,e=ecc,w=w)\n",
    "    return lightcurve\n",
    "\n",
    "lc=model(5.0,.1,12.306,90.,0.,0.)\n",
    "lc2=model(5.0,.2,19.53338,90.,0.,0.) #for a star with half radius and half mass of sun\n",
    "\n",
    "\n",
    "fig = plt.figure()\n",
    "plt.plot(time,lc2)\n",
    "plt.plot(time, lc)\n",
    "plt.xlim(4,6)\n",
    "plt.show()"
   ]
  },
  {
   "cell_type": "code",
   "execution_count": null,
   "id": "cc2de397",
   "metadata": {},
   "outputs": [],
   "source": []
  },
  {
   "cell_type": "code",
   "execution_count": null,
   "id": "6ec943f3",
   "metadata": {},
   "outputs": [],
   "source": []
  }
 ],
 "metadata": {
  "kernelspec": {
   "display_name": "Python 3",
   "language": "python",
   "name": "python3"
  },
  "language_info": {
   "codemirror_mode": {
    "name": "ipython",
    "version": 3
   },
   "file_extension": ".py",
   "mimetype": "text/x-python",
   "name": "python",
   "nbconvert_exporter": "python",
   "pygments_lexer": "ipython3",
   "version": "3.8.8"
  }
 },
 "nbformat": 4,
 "nbformat_minor": 5
}
