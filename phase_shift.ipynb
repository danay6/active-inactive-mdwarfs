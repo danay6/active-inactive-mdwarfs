{
 "cells": [
  {
   "cell_type": "code",
   "execution_count": 2,
   "metadata": {
    "scrolled": true
   },
   "outputs": [],
   "source": [
    "import numpy as np\n",
    "import matplotlib.pyplot as plt\n",
    "from pytransit import QuadraticModel\n",
    "from decimal import Decimal\n",
    "import emcee\n",
    "import corner\n",
    "from IPython.display import display, Math\n",
    "import csv \n",
    "from numpy import savetxt\n",
    "from numpy import loadtxt\n",
    "from numpy import random\n",
    "from multiprocessing import Pool\n",
    "from transitleastsquares import transitleastsquares\n",
    "import batman\n",
    "import statistics\n",
    "from statistics import mode\n",
    "import pandas as pd\n",
    "from tabulate import tabulate\n",
    "from stochastic.processes.base import BaseTimeProcess\n",
    "from stochastic.utils.validation import check_numeric\n",
    "from stochastic.utils.validation import check_positive_integer\n",
    "from stochastic.processes.noise import ColoredNoise\n",
    "from stochastic.processes.noise import GaussianNoise\n",
    "\n",
    "import seaborn as sns"
   ]
  },
  {
   "cell_type": "code",
   "execution_count": null,
   "metadata": {
    "scrolled": false
   },
   "outputs": [],
   "source": [
    "input_periods_array = np.array([])\n",
    "periods_array = np.array([])\n",
    "rp_over_rstar_range = np.array([])\n",
    "detection_array = np.array([])\n",
    "periods_array = np.array([])\n",
    "FAP_array = np.array([])\n",
    "periods_for_heatmap = np.array([])\n",
    "ronr_for_heatmap = np.array([])\n",
    "detection_for_heatmap = np.array([])\n",
    "    \n",
    "    \n",
    "def find_period(period, rp_over_rstar):\n",
    "    \n",
    "    global periods_array, rand_phases, detection_array, FAP_array\n",
    "    \n",
    "    #Enter parameters\n",
    "    period = period\n",
    "    rp_over_rstar = rp_over_rstar\n",
    "    a_over_rstar = 19.53338\n",
    "    inc = 90.\n",
    "    error_amount = 10 ** (-3) #per point error this s the transit depth of the earth around the star\n",
    "\n",
    "    params = [period, rp_over_rstar, a_over_rstar, inc]\n",
    "\n",
    "#     #gaussian noise array\n",
    "#     flux_err = np.array([])\n",
    "#     for timestep in range(1,19441):\n",
    "#         noise = random.normal(0,error_amount)\n",
    "#         flux_err = np.append(flux_err, noise)\n",
    "\n",
    "    #Make colored Noise\n",
    "    colored_noise = ColoredNoise(beta=1,t=27, rng=None) #t is right hand endpoint, -1=blue 2=red 1=pink -2=violet 0=white\n",
    "\n",
    "\n",
    "    cmag = error_amount /.007 #i believe the error is automatically at .007 compared to my error function, just from eyeballing\n",
    "    cnoise = colored_noise.sample(19439)\n",
    "    flux_err = cnoise * cmag\n",
    "\n",
    "    #time array\n",
    "    time = np.linspace(0,27,19441)\n",
    "\n",
    "\n",
    "     #Batman\n",
    "    from matplotlib import rcParams; rcParams[\"figure.dpi\"] = 150\n",
    "\n",
    "    # Create test data\n",
    "    time_start = 0 # time to start first transit\n",
    "    data_duration = 27\n",
    "    samples_per_day = 720\n",
    "    samples = int(data_duration * samples_per_day)\n",
    "    time = np.linspace(0, data_duration, samples)\n",
    "\n",
    "    # Use batman to create transits\n",
    "    ma = batman.TransitParams()\n",
    "    ma.t0 = time_start  # time of inferior conjunction; first transit is X days after start\n",
    "    ma.per = period  # orbital period\n",
    "    ma.rp = rp_over_rstar  # 6371 planet radius (in units of stellar radii)\n",
    "    ma.a = a_over_rstar  # semi-major axis (in units of stellar radii)\n",
    "    ma.inc = inc  # orbital inclination (in degrees)\n",
    "    ma.ecc = 0.  # eccentricity\n",
    "    ma.w = 0.  # longitude of periastron (in degrees)\n",
    "    ma.u = [0.0, 0.0]  # limb darkening coefficients\n",
    "    ma.limb_dark = \"quadratic\"  # limb darkening model\n",
    "    m = batman.TransitModel(ma, time)  # initializes model\n",
    "    synthetic_signal = m.light_curve(ma)  # calculates light curve\n",
    "\n",
    "    # Create noise and merge with flux\n",
    "\n",
    "    flux = synthetic_signal + flux_err\n",
    "\n",
    "    # Plot Batman flux array (points)\n",
    "    plt.figure()\n",
    "    ax = plt.gca()\n",
    "    ax.scatter(time, flux, color='black', s=1)\n",
    "    plt.title('Simulated lightcurve (Correlated Noise)')\n",
    "    ax.set_ylabel(\"Flux\")\n",
    "    ax.set_xlabel(\"Time (days)\")\n",
    "\n",
    "    plt.plot(time, flux)\n",
    "\n",
    "    # Running transit least squares\n",
    "    leastsquares = transitleastsquares(time, flux)#binned:(time_bin, flux_bin) #unbinned: (time, lc_w_noise)\n",
    "    results = leastsquares.power()\n",
    "\n",
    "\n",
    "    # Showing the batman plot\n",
    "\n",
    "    plt.figure()\n",
    "    ax = plt.gca()\n",
    "    ax.axvline(results.period, alpha=0.4, lw=3)\n",
    "    plt.xlim(np.min(results.periods), np.max(results.periods))\n",
    "    for n in range(2, 10):\n",
    "        ax.axvline(n*results.period, alpha=0.4, lw=1, linestyle=\"dashed\")\n",
    "        ax.axvline(results.period / n, alpha=0.4, lw=1, linestyle=\"dashed\")\n",
    "    plt.ylabel(r'SDE')\n",
    "    plt.xlabel('Period (days)')\n",
    "    plt.plot(results.periods, results.power, color='black', lw=0.5)\n",
    "    plt.xlim(0, max(results.periods))\n",
    "\n",
    "    periods_array = np.append(periods_array, results.period)\n",
    "    FAP_array = np.append(FAP_array,results.FAP) #if greater than 10^(-4)\n",
    "\n",
    "    if results.FAP < .0001 and period *.99 < results.period < period* 1.01:\n",
    "        detection_array = np.append(detection_array, 1)\n",
    "    else:\n",
    "        detection_array = np.append(detection_array, 0)\n",
    "\n",
    "#generate n periods\n",
    "period = 0\n",
    "for x in range(0,1):\n",
    "    period = period + 5\n",
    "    input_periods_array = np.append(input_periods_array, period)\n",
    "print(input_periods_array)\n",
    "    \n",
    "#generate n rp_over_rstars\n",
    "rp_over_rstar = .015    \n",
    "for x in range(0,1):\n",
    "    rp_over_rstar = rp_over_rstar + .0005\n",
    "    rp_over_rstar_range = np.append(rp_over_rstar_range, rp_over_rstar)\n",
    "print(rp_over_rstar_range)\n",
    "    \n",
    "#run TLS n times for each pair \n",
    "for x in input_periods_array:\n",
    "    for y in rp_over_rstar_range:\n",
    "        for each in range (0,1):\n",
    "            find_period(x, y)\n",
    "        periods_for_heatmap = np.append(periods_for_heatmap, x)\n",
    "        ronr_for_heatmap = np.append(ronr_for_heatmap, y)\n",
    "        detection_percent = sum(detection_array) / 10\n",
    "        detection_for_heatmap = np.append(detection_for_heatmap, detection_percent)\n",
    "        print(detection_array)\n",
    "        detection_array = ([])\n",
    "\n",
    "        \n",
    "        \n",
    "print(periods_for_heatmap)\n",
    "print(ronr_for_heatmap)\n",
    "print(detection_for_heatmap)\n",
    "#print(FAP_array)\n"
   ]
  },
  {
   "cell_type": "code",
   "execution_count": 30,
   "metadata": {},
   "outputs": [
    {
     "name": "stdout",
     "output_type": "stream",
     "text": [
      "[12.63766693  4.99721555  4.99721555  4.99721555  4.99721555  4.99721555\n",
      "  5.00520006  4.99721555  4.99721555  4.99721555  4.99721555  4.99721555\n",
      "  4.99721555  4.99721555  4.99721555  4.99721555  4.99721555  4.99721555\n",
      "  4.99721555  4.99721555  9.99928056  9.99928056 11.8226451   6.68795608\n",
      "  9.99928056  9.99928056  9.99928056 13.3799834   9.99928056  9.99928056\n",
      "  9.99928056  9.99928056  9.99928056  9.99928056 10.80416786  7.88370718\n",
      "  9.99928056  9.99928056 13.49930552  9.38237603]\n"
     ]
    }
   ],
   "source": [
    "print(periods_array)\n"
   ]
  },
  {
   "cell_type": "code",
   "execution_count": 31,
   "metadata": {},
   "outputs": [
    {
     "name": "stdout",
     "output_type": "stream",
     "text": [
      "periods: [ 5.  5. 10. 10.]\n",
      "ronr: [0.0155 0.016  0.0155 0.016 ]\n",
      "percent found: [0.9 1.  0.3 0.4]\n"
     ]
    },
    {
     "data": {
      "image/png": "[encoded data removed]",
      "text/plain": [
       "<Figure size 900x600 with 2 Axes>"
      ]
     },
     "metadata": {
      "needs_background": "light"
     },
     "output_type": "display_data"
    }
   ],
   "source": [
    "print(\"periods:\" , periods_for_heatmap)\n",
    "print(\"ronr:\" , ronr_for_heatmap)\n",
    "print(\"percent found:\" , detection_for_heatmap)\n",
    "#print(FAP_array)\n",
    "\n",
    "data = pd.DataFrame({'RonR': ronr_for_heatmap, 'Periods': periods_for_heatmap, 'Detection': detection_for_heatmap})\n",
    "data_pivoted = data.pivot(\"RonR\", \"Periods\", \"Detection\")\n",
    "data_pivoted = sns.heatmap(data_pivoted, cmap=\"viridis\")\n",
    "#pd.plot(kind='RonR',rot=0)\n",
    "\n",
    "#plt.title()\n",
    "data_pivoted.collections[0].colorbar.set_label(\"Percent found\")\n",
    "plt.show()"
   ]
  },
  {
   "cell_type": "code",
   "execution_count": null,
   "metadata": {},
   "outputs": [],
   "source": []
  },
  {
   "cell_type": "code",
   "execution_count": null,
   "metadata": {},
   "outputs": [],
   "source": []
  }
 ],
 "metadata": {
  "kernelspec": {
   "display_name": "Python 3",
   "language": "python",
   "name": "python3"
  },
  "language_info": {
   "codemirror_mode": {
    "name": "ipython",
    "version": 3
   },
   "file_extension": ".py",
   "mimetype": "text/x-python",
   "name": "python",
   "nbconvert_exporter": "python",
   "pygments_lexer": "ipython3",
   "version": "3.8.8"
  }
 },
 "nbformat": 4,
 "nbformat_minor": 4
}
